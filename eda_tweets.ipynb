{
 "cells": [
  {
   "cell_type": "markdown",
   "metadata": {},
   "source": [
    "# Análisis Exploratorio de Tweets"
   ]
  },
  {
   "cell_type": "markdown",
   "metadata": {},
   "source": [
    "## Introducción\n",
    "\n",
    "Diariamente se generan aproximadamente 600 millones de tweets que cuyo contenido puede ser utilizado para comprender las conversaciones, intereses y contenido que los usuarios de esta red social comparten (http://www.internetlivestats.com/twitter-statistics/, 2019). El propósito de este notebook es realizar un análisis exploratorio de la cuenta de un usuario de tweeter utilizando Python.\n",
    "\n",
    "Se eligió la cuenta del Presidente de México, por ser un usuario de interés público. \n",
    "\n",
    "Las preguntas que se intentan contestar con este análisis exploratorio son las siguientes:\n",
    "\n",
    "1) Longitud promedio de tweets\n",
    "\n",
    "2) Número máximo de tweets\n",
    "\n",
    "3) Número máximo de retweets\n",
    "\n",
    "4) Cuáles son los 5 tweets más populares\n",
    "\n",
    "En este análisis solamente se incluyen los 200 tweets más recientes que abarcan del 8 de agosto de 2018 al 6 de enero de 2019."
   ]
  },
  {
   "cell_type": "markdown",
   "metadata": {},
   "source": [
    "## Cargar librerías"
   ]
  },
  {
   "cell_type": "markdown",
   "metadata": {},
   "source": [
    "Las librerías utilizadas en este análisis son las siguientes:"
   ]
  },
  {
   "cell_type": "code",
   "execution_count": 3,
   "metadata": {},
   "outputs": [],
   "source": [
    "# Numpy\n",
    "import numpy as np\n",
    "# Pandas\n",
    "import pandas as pd\n",
    "# Matplotlib\n",
    "import matplotlib.pyplot as plt\n",
    "# Seaborn\n",
    "import seaborn as sns"
   ]
  },
  {
   "cell_type": "markdown",
   "metadata": {},
   "source": [
    "## Cargar datos"
   ]
  },
  {
   "cell_type": "markdown",
   "metadata": {},
   "source": [
    "Los datos se extrajeron utilizando la API de twitter y la librería tweepy. El script se encuentra en el archivo <b>tweepy_streamer.py</b> el cual guarda los últimos 200 tweets en el archivo <b>tweets.csv</b>."
   ]
  },
  {
   "cell_type": "code",
   "execution_count": 4,
   "metadata": {},
   "outputs": [],
   "source": [
    "df = pd.read_csv('tweets.csv', index_col='date', parse_dates=True)"
   ]
  },
  {
   "cell_type": "markdown",
   "metadata": {},
   "source": [
    "El archivo CSV contiene 200 filas y siete columnas incluyendo el índice del pandas dataframe."
   ]
  },
  {
   "cell_type": "code",
   "execution_count": 5,
   "metadata": {},
   "outputs": [
    {
     "data": {
      "text/plain": [
       "(200, 6)"
      ]
     },
     "execution_count": 5,
     "metadata": {},
     "output_type": "execute_result"
    }
   ],
   "source": [
    "df.shape"
   ]
  },
  {
   "cell_type": "markdown",
   "metadata": {},
   "source": [
    "La información que se extrajo de los tweets son:\n",
    "\n",
    "1) date (índice): fecha en la que fue publicado el tweet.\n",
    "\n",
    "2) texto: contenido del tweet.\n",
    "\n",
    "3) id: id del tweet.\n",
    "\n",
    "4) len: longitud de caracteres del tweet.\n",
    "\n",
    "5) source: fuente de la que provino el tweet.\n",
    "\n",
    "6) likes: número de \"me gusta\" por tweet.\n",
    "\n",
    "7) retweets: número de \"retweets\" por tweet.\n",
    "\n",
    "A continuación se muestran los 5 tweets más recientes."
   ]
  },
  {
   "cell_type": "code",
   "execution_count": 6,
   "metadata": {},
   "outputs": [
    {
     "data": {
      "text/html": [
       "<div>\n",
       "<style scoped>\n",
       "    .dataframe tbody tr th:only-of-type {\n",
       "        vertical-align: middle;\n",
       "    }\n",
       "\n",
       "    .dataframe tbody tr th {\n",
       "        vertical-align: top;\n",
       "    }\n",
       "\n",
       "    .dataframe thead th {\n",
       "        text-align: right;\n",
       "    }\n",
       "</style>\n",
       "<table border=\"1\" class=\"dataframe\">\n",
       "  <thead>\n",
       "    <tr style=\"text-align: right;\">\n",
       "      <th></th>\n",
       "      <th>Tweets</th>\n",
       "      <th>id</th>\n",
       "      <th>len</th>\n",
       "      <th>source</th>\n",
       "      <th>likes</th>\n",
       "      <th>retweets</th>\n",
       "    </tr>\n",
       "    <tr>\n",
       "      <th>date</th>\n",
       "      <th></th>\n",
       "      <th></th>\n",
       "      <th></th>\n",
       "      <th></th>\n",
       "      <th></th>\n",
       "      <th></th>\n",
       "    </tr>\n",
       "  </thead>\n",
       "  <tbody>\n",
       "    <tr>\n",
       "      <th>2019-01-06 23:07:38</th>\n",
       "      <td>Programa de la Zona Libre de la Frontera Norte...</td>\n",
       "      <td>1082051092005834752</td>\n",
       "      <td>103</td>\n",
       "      <td>Periscope</td>\n",
       "      <td>3588</td>\n",
       "      <td>1198</td>\n",
       "    </tr>\n",
       "    <tr>\n",
       "      <th>2019-01-05 18:02:48</th>\n",
       "      <td>Programa de la Zona Libre de la Frontera Norte...</td>\n",
       "      <td>1081611988201963520</td>\n",
       "      <td>103</td>\n",
       "      <td>Periscope</td>\n",
       "      <td>6395</td>\n",
       "      <td>1945</td>\n",
       "    </tr>\n",
       "    <tr>\n",
       "      <th>2019-01-05 01:56:13</th>\n",
       "      <td>Ya funciona la reducción del IVA, del ISR, del...</td>\n",
       "      <td>1081368741953191941</td>\n",
       "      <td>139</td>\n",
       "      <td>Twitter for iPhone</td>\n",
       "      <td>13468</td>\n",
       "      <td>3872</td>\n",
       "    </tr>\n",
       "    <tr>\n",
       "      <th>2019-01-04 12:55:57</th>\n",
       "      <td>Cuentas claras y chocolate espeso. Conferencia...</td>\n",
       "      <td>1081172380377001984</td>\n",
       "      <td>89</td>\n",
       "      <td>Periscope</td>\n",
       "      <td>10386</td>\n",
       "      <td>2827</td>\n",
       "    </tr>\n",
       "    <tr>\n",
       "      <th>2019-01-04 01:21:24</th>\n",
       "      <td>Hoy en Morelia, Michoacán, hablé del compromis...</td>\n",
       "      <td>1080997590873849857</td>\n",
       "      <td>140</td>\n",
       "      <td>Twitter for iPhone</td>\n",
       "      <td>11137</td>\n",
       "      <td>2798</td>\n",
       "    </tr>\n",
       "  </tbody>\n",
       "</table>\n",
       "</div>"
      ],
      "text/plain": [
       "                                                                Tweets  \\\n",
       "date                                                                     \n",
       "2019-01-06 23:07:38  Programa de la Zona Libre de la Frontera Norte...   \n",
       "2019-01-05 18:02:48  Programa de la Zona Libre de la Frontera Norte...   \n",
       "2019-01-05 01:56:13  Ya funciona la reducción del IVA, del ISR, del...   \n",
       "2019-01-04 12:55:57  Cuentas claras y chocolate espeso. Conferencia...   \n",
       "2019-01-04 01:21:24  Hoy en Morelia, Michoacán, hablé del compromis...   \n",
       "\n",
       "                                      id  len              source  likes  \\\n",
       "date                                                                       \n",
       "2019-01-06 23:07:38  1082051092005834752  103           Periscope   3588   \n",
       "2019-01-05 18:02:48  1081611988201963520  103           Periscope   6395   \n",
       "2019-01-05 01:56:13  1081368741953191941  139  Twitter for iPhone  13468   \n",
       "2019-01-04 12:55:57  1081172380377001984   89           Periscope  10386   \n",
       "2019-01-04 01:21:24  1080997590873849857  140  Twitter for iPhone  11137   \n",
       "\n",
       "                     retweets  \n",
       "date                           \n",
       "2019-01-06 23:07:38      1198  \n",
       "2019-01-05 18:02:48      1945  \n",
       "2019-01-05 01:56:13      3872  \n",
       "2019-01-04 12:55:57      2827  \n",
       "2019-01-04 01:21:24      2798  "
      ]
     },
     "execution_count": 6,
     "metadata": {},
     "output_type": "execute_result"
    }
   ],
   "source": [
    "df.head()"
   ]
  },
  {
   "cell_type": "markdown",
   "metadata": {},
   "source": [
    "## Estadísticas"
   ]
  },
  {
   "cell_type": "markdown",
   "metadata": {},
   "source": [
    "Se calcularon las siguientes estadísticas sobre la muestra de 200 tweets."
   ]
  },
  {
   "cell_type": "markdown",
   "metadata": {},
   "source": [
    "La longitud promedio de los tweets es de 120 de los 140 caracteres que permite la aplicación."
   ]
  },
  {
   "cell_type": "code",
   "execution_count": 8,
   "metadata": {},
   "outputs": [
    {
     "name": "stdout",
     "output_type": "stream",
     "text": [
      "Longitud promedio del tweet: 119.6\n"
     ]
    }
   ],
   "source": [
    "# Estadísticas\n",
    "# Get average length over all tweets\n",
    "print(\"Longitud promedio del tweet: {}\".format(np.mean(df['len'])))"
   ]
  },
  {
   "cell_type": "markdown",
   "metadata": {},
   "source": [
    "De la muestra de 200 tweets se ha obtenido un máximo de 79,676 likes."
   ]
  },
  {
   "cell_type": "code",
   "execution_count": 9,
   "metadata": {},
   "outputs": [
    {
     "name": "stdout",
     "output_type": "stream",
     "text": [
      "Máximo número de likes: 79676\n"
     ]
    }
   ],
   "source": [
    "# Get the number of likes for the most liked tweet.\n",
    "print(\"Máximo número de likes: {}\".format(np.max(df['likes'])))"
   ]
  },
  {
   "cell_type": "markdown",
   "metadata": {},
   "source": [
    "De la muestra de 200 tweets se ha obtenido un máximo de 19,977 likes."
   ]
  },
  {
   "cell_type": "code",
   "execution_count": 11,
   "metadata": {},
   "outputs": [
    {
     "name": "stdout",
     "output_type": "stream",
     "text": [
      "Máximo número de retweets: 19977\n"
     ]
    }
   ],
   "source": [
    "# Get the number of retweets for the most retweeted tweet\n",
    "print(\"Máximo número de retweets: {}\".format(np.max(df['retweets'])))"
   ]
  },
  {
   "cell_type": "markdown",
   "metadata": {},
   "source": [
    "## Likes y retweets de los 200 más recientes"
   ]
  },
  {
   "cell_type": "markdown",
   "metadata": {},
   "source": [
    "En la siguiente gráfica se presentan las series de tiempo del comportamiento de likes y retweets para la muestra de 200 tweets. Se puede observar que ambas series se encuentran muy correlacionadas, sin embargo, los likes siempre son mayores a los retweets."
   ]
  },
  {
   "cell_type": "code",
   "execution_count": 5,
   "metadata": {},
   "outputs": [
    {
     "data": {
      "image/png": "[encoded data removed]",
      "text/plain": [
       "<Figure size 1152x288 with 1 Axes>"
      ]
     },
     "metadata": {
      "needs_background": "light"
     },
     "output_type": "display_data"
    }
   ],
   "source": [
    "# Time series\n",
    "time_likes = pd.Series(data=df['likes'].values, index=df.index)\n",
    "time_likes.plot(figsize=(16,4), label = \"likes\" , legend= True)\n",
    "\n",
    "time_retweets = pd.Series(data=df['retweets'].values, index=df.index)\n",
    "time_retweets.plot(figsize=(16,4), label = \"retweets\" , legend= True)\n",
    "\n",
    "plt.title('Cuenta de Twitter del Presidente de México')\n",
    "plt.xlabel('fecha')\n",
    "plt.ylabel('cuenta')\n",
    "plt.xticks(rotation='vertical')\n",
    "plt.show()"
   ]
  },
  {
   "cell_type": "markdown",
   "metadata": {},
   "source": [
    "Desde el 8 de agosto de 2018 al 6 de enero de 2019 ha habido 3 tweets que han rebasado los 50,000 likes. Los cuales se investigan a continuación."
   ]
  },
  {
   "cell_type": "markdown",
   "metadata": {},
   "source": [
    "## Top 5 tweets más gustados y retweeteados"
   ]
  },
  {
   "cell_type": "markdown",
   "metadata": {},
   "source": [
    "Se invetigan los 5 tweets más populares por número de likes."
   ]
  },
  {
   "cell_type": "code",
   "execution_count": 13,
   "metadata": {},
   "outputs": [
    {
     "data": {
      "text/html": [
       "<div>\n",
       "<style scoped>\n",
       "    .dataframe tbody tr th:only-of-type {\n",
       "        vertical-align: middle;\n",
       "    }\n",
       "\n",
       "    .dataframe tbody tr th {\n",
       "        vertical-align: top;\n",
       "    }\n",
       "\n",
       "    .dataframe thead th {\n",
       "        text-align: right;\n",
       "    }\n",
       "</style>\n",
       "<table border=\"1\" class=\"dataframe\">\n",
       "  <thead>\n",
       "    <tr style=\"text-align: right;\">\n",
       "      <th></th>\n",
       "      <th>Tweets</th>\n",
       "      <th>likes</th>\n",
       "    </tr>\n",
       "    <tr>\n",
       "      <th>date</th>\n",
       "      <th></th>\n",
       "      <th></th>\n",
       "    </tr>\n",
       "  </thead>\n",
       "  <tbody>\n",
       "    <tr>\n",
       "      <th>2018-12-17 02:55:06</th>\n",
       "      <td>Felicitaciones al América; ánimo al Cruz Azul. «El que persevera, alcanza».</td>\n",
       "      <td>79676</td>\n",
       "    </tr>\n",
       "    <tr>\n",
       "      <th>2018-12-24 23:42:28</th>\n",
       "      <td>En lo personal, mi más profundo pésame a los familiares del senador Rafael Moreno Valle y de su esposa, la gobernad… https://t.co/61Abbq...</td>\n",
       "      <td>65341</td>\n",
       "    </tr>\n",
       "    <tr>\n",
       "      <th>2018-12-01 14:53:09</th>\n",
       "      <td>Inicia la cuarta transformación de la vida pública de México. Empeño mi palabra: no les defraudaré. https://t.co/Y4cJbuejYR</td>\n",
       "      <td>58681</td>\n",
       "    </tr>\n",
       "    <tr>\n",
       "      <th>2019-01-01 17:17:46</th>\n",
       "      <td>Confieso que estoy optimista. Nos irá bien a todos los mexicanos en este año 2019. ¡Felicidades!… https://t.co/IL8p0YmLdn</td>\n",
       "      <td>38118</td>\n",
       "    </tr>\n",
       "    <tr>\n",
       "      <th>2018-12-24 22:33:40</th>\n",
       "      <td>Estoy recibiendo información de un accidente en Puebla por desplome de un helicóptero. Por confirmar que iban la go… https://t.co/W9Gs9S...</td>\n",
       "      <td>36134</td>\n",
       "    </tr>\n",
       "  </tbody>\n",
       "</table>\n",
       "</div>"
      ],
      "text/plain": [
       "                                                                                                                                                          Tweets  \\\n",
       "date                                                                                                                                                               \n",
       "2018-12-17 02:55:06                                                                  Felicitaciones al América; ánimo al Cruz Azul. «El que persevera, alcanza».   \n",
       "2018-12-24 23:42:28  En lo personal, mi más profundo pésame a los familiares del senador Rafael Moreno Valle y de su esposa, la gobernad… https://t.co/61Abbq...   \n",
       "2018-12-01 14:53:09                  Inicia la cuarta transformación de la vida pública de México. Empeño mi palabra: no les defraudaré. https://t.co/Y4cJbuejYR   \n",
       "2019-01-01 17:17:46                    Confieso que estoy optimista. Nos irá bien a todos los mexicanos en este año 2019. ¡Felicidades!… https://t.co/IL8p0YmLdn   \n",
       "2018-12-24 22:33:40  Estoy recibiendo información de un accidente en Puebla por desplome de un helicóptero. Por confirmar que iban la go… https://t.co/W9Gs9S...   \n",
       "\n",
       "                     likes  \n",
       "date                        \n",
       "2018-12-17 02:55:06  79676  \n",
       "2018-12-24 23:42:28  65341  \n",
       "2018-12-01 14:53:09  58681  \n",
       "2019-01-01 17:17:46  38118  \n",
       "2018-12-24 22:33:40  36134  "
      ]
     },
     "execution_count": 13,
     "metadata": {},
     "output_type": "execute_result"
    }
   ],
   "source": [
    "pd.set_option('display.max_colwidth',140)\n",
    "top_5_tweets = df.sort_values('likes',ascending=False).head()\n",
    "top_5_tweets[['Tweets', 'likes']]"
   ]
  },
  {
   "cell_type": "markdown",
   "metadata": {},
   "source": [
    "El tweet más popular en la cuenta del Presidente de México es sobre la victoria del América sobre el Cruz Azúl en la Final del Football méxicano. En segundo lugar, se encuentra el mensaje de pésame a la familia del Senador Moreno Valle y su esposa la Gobernadora de Puebla. Su tercer tweet más popular es el mensaje que envió en su toma de protesta como Presidente. El cuarto más popular es su mensaje de año nuevo y por últimno la noticia sobre el accidente aéreo en el que murieron el Senador Moreno Valle y su esposa la Gobernadora de Puebla."
   ]
  }
 ],
 "metadata": {
  "kernelspec": {
   "display_name": "vangogh",
   "language": "python",
   "name": "vangogh"
  },
  "language_info": {
   "codemirror_mode": {
    "name": "ipython",
    "version": 3
   },
   "file_extension": ".py",
   "mimetype": "text/x-python",
   "name": "python",
   "nbconvert_exporter": "python",
   "pygments_lexer": "ipython3",
   "version": "3.6.6"
  }
 },
 "nbformat": 4,
 "nbformat_minor": 2
}
